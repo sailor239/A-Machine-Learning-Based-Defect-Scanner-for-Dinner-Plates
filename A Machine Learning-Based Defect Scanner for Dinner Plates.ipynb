{
 "cells": [
  {
   "cell_type": "markdown",
   "metadata": {},
   "source": [
    "# <center>A Machine Learning-Based Defect Scanner for Dinner Plates</center>"
   ]
  },
  {
   "cell_type": "markdown",
   "metadata": {},
   "source": [
    "Assume that you are the quality control manager of a small company producing and selling beautiful dinner plates. Your sole responsibility is to make sure that every dinner plate shipped to your clients has at most one defect only, as your clients have done their research and concluded that no customer would pay for a dinner plate with more than one defect. Defects can show in various forms such as spots, chips and scratches. For simplicity, only spots are considered. How are you going to do it?\n",
    "\n",
    "Since defects on a dinner plate can be easily observed by people, you suggested hiring a few workers and asking them to scrutinize every dinner plate with their eyes before it being packaged and shipped out. Based on your company's production volume and the average working efficiency of workers, you did meticulous calculation and concluded that you need to hire 20 workers. You feel very confident and proposed your idea to the CEO.\n",
    "\n",
    "However, the CEO was not satisfied and didn't approve as there could be potential issues in his opinion as below:\n",
    "* The workers need to be paid.\n",
    "* They could ask for a pay raise after working for some time.\n",
    "* They could go for a trip.\n",
    "* They could get tired.\n",
    "* They could get lazy.\n",
    "* They could make mistakes.\n",
    "* They could get sick.\n",
    "\n",
    "Furthermore, he asked you for a new plan and promised you an attractive bonus if you could come out with something a lot better.\n",
    "\n",
    "Therefore, you came to me and asked for suggestions. After thinking for 10 seconds, an idea came to me. Since the CEO is not in favor of hiring extra workers, you can use a computer instead of workers because\n",
    "* A computer doesn't need to be paid.\n",
    "* A computer would never ask for a pay raise no matter how long it works.\n",
    "* A computer doesn't go for a trip.\n",
    "* A computer doesn't get tired.\n",
    "* A computer doesn't get lazy.\n",
    "\n",
    "although\n",
    "* A computer could still make mistakes.\n",
    "* A computer could get \"sick\", and needs to be fixed.\n",
    "\n",
    "Overall, it still sounds like a much better solution, right? But how can a computer tell how many defects there are on a dinner plate? As a data scientist who is super familiar with machine learning, I tell you seriously that, \"Machine learning will do the magic!\" You are amazed and confused, and asked me, \"What is machine learning?\""
   ]
  },
  {
   "cell_type": "markdown",
   "metadata": {},
   "source": [
    "Generally, machine learning is to give the computer the ability to automatically learn and improve from experiences without explicitly programming it. This is very similar to how we human beings learn new skills. Take the workers you planned to hire as an example. After being hired, they may not be able to immediately perform the task of spotting the defects on a dinner plate. They need to be trained. One way of training is to let them see various dinner plates with their eyes and learn with their brains what defects look like. During the training, they could make many mistakes. However, after proper training, mostly they would be able to count the defects on a dinner plate.\n",
    "\n",
    "If we want to replace the workers with a computer, we need to do the same for the computer by giving the computer a \"brain\" to learn and \"eyes\" to see. In this case, \"brain\" refers to a machine learning algorithm programmed onto the computer, and eyes refer to a camera that take photos of the dinner plates and upload them to the computer. After \"seeing\" enough images, i.e., being properly trained, the computer will be able to tell how many defects there are on a dinner plate.\n",
    "\n",
    "You may want to ask at this moment, \"It looks that machine learning needs some programming to work. How is it different from the traditional programming?\" This is a very good question. Let's first see how to give the computer the ability of counting defects on a dinner plate with traditional programming. Most probably, several conditions as below need to be explicitly programmed.\n",
    "* If condition 1 is met, 0 defect is found.\n",
    "* If condition 2 is met, 1 defect is found.\n",
    "* If condition 3 is met, 2 defects are found.\n",
    "* ...\n",
    "* And so on and so forth.\n",
    "\n",
    "Assume that you found from the historical data that the maximum number of defects on a plate is 20. Then 21 conditions have to be specified. That looks very tedious. Not to mention that in the future, if a dinner plate has more than 20 defects, it would not get recognized by the computer because no such condition has been specified. This dinner plate with so many defects would be shipped to your clients. I believe that you will have to forget about the bonus if it happens.\n",
    "\n",
    "However, using machine learning, we can just provide an algorithm to the computer with numerous images of dinner plates having different numbers of defects. After being properly trained, the computer will develop the capability of telling how many defects thare are on a dinner plate by itself. Isn't it wonderful?\n",
    "\n",
    "In summary, the traditional engineer needs to provide the logic explicitly to the computer, which can be quite complicated and may not be robust enough, whereas the machine learning engineer only needs to provide a suitable machine learning algorithm to the computer and numerous data. The computer will figure out the logic by itself. This logic could be quite different from what a traditional engineer thinks and very difficult to understand. But it will still make the computer do great work for us."
   ]
  },
  {
   "cell_type": "markdown",
   "metadata": {},
   "source": [
    "I believe now you should have a good understanding of why I recommended machine learning and roughtly how it works. Let's dig into some more details and see how exactly we can tackle this problem step by step.\n",
    "\n",
    "1. To make it work, the first thing we need to do is to collect and prepare the data for the computer. In this case, data refers to photos of dinner plates with various defects.\n",
    "2. In reality, the data could be in various forms. Photos taken by different cameras could have different resolutions. Hence, preprocessing is usually needed to standardize the data, which can help to reduce the training time.\n",
    "3. Next, we need to select a machine learning algorithm, i.e., a machine learning model. This can be quite difficult as there are so many available. Fortunately, I am a data scientist! Let's analyze this task first. As the task is to tell if a dinner plate has at most one defect only, what needs to be done is to classify the dinner plates into two categories, one with more than one defect that will be scrapped (classified as \"Fail\"), and the other with not more than one defect that will be shipped to your clients (classified as \"Pass\"). Furthermore, the data we provide to the computer are images. Hence, this task falls into the category of image classification. Immediately, one particular type of machine learning model, or more precisely a deep learning model, came to my mind, which is CNN. You are confused again, \"What is deep learning? And what is CNN?\"\n",
    "\n",
    "Don't get panic. Let me explain. Deep learning is a subset of machine learning, which is extremely popular nowadays. It has helped us a lot more than we realized, especially in those cool products like Apple Face ID, Amazon Alexa, Google map and Tesla Autopilot. In brief, deep learning is machine learning of one special structure, neural networks, which makes it the best choice of complex problems like image classification.\n",
    "\n",
    "CNN is convolutional neural network. As the name suggests, it is deep learning of one special strucutre, where there are convolutional layers, making it a popular choice for image applications. With this \"brain\" of CNN, the computer now has the potential of doing image classification.\n",
    "\n",
    "4. Now we have both the data and \"brain\" ready. Can we deploy the computer to start working for us? Not yet, as the \"brain\" hasn't seen the data yet and knows nothing about how to classify it. The \"brain\" needs to be trained with the data. Take the example of us human beings. When we are born, although we already have a brain, we are not able to perform any sophisticated tasks except for crying because we haven't experienced much. After a few years of either self-training or being trained by parents, peers and teachers, we will definitely be able to do a lot like recognizing whether that little cute pet is a dog or cat. To be more specific, we need to train our CNN model with a lot of labeled data, i.e., images of dinner plates labeled as \"Pass\" or \"Fail\". Why do we need the images being labeled? With the labels, the computer can self-monitor its performance and update the model automatically based on its performance during the training. If the computer predicted a dinner plate with more than one defect as \"Pass\", the prediction is wrong. Thus, the model will be automatically tweaked so that next time the prediction would be a little bit more accurate. This modification is an iterative process. After going through enough training or iterations, the model will be optimized and the computer will be able to classify the dinner plate as \"Pass\" or \"Fail\" with little chance of making errors.\n",
    "5. After training, are you confident to use the computer and trust its judgement? Maybe not yet. Hence, we need to validate our model with new images. We cannot use those images that have been seen by the computer during training. Fresh data is mandatory so that the computer cannot cheat.\n",
    "6. After validation, I believe your confidence in the computer is very high. Now the computer is ready to work for us. You can just take photos of those dinner plates that are going to be shipped out and pass them to the computer. The computer will inform you if the dinner plate is classified as \"Pass\" or \"Fail\". You can confidently screen out those \"Fail\" and ship the \"Pass\" to your clients.\n",
    "7. Lastly, you need to constantly monitor the performance of you computer. If you received any complains from the clients, you may need to check on the model and figure out why."
   ]
  },
  {
   "cell_type": "markdown",
   "metadata": {},
   "source": [
    "Now I think you have fully understood how machine learning can help you to get a big bonus. Let's start to implement it in Python. Before typing any codes, let's take a look at how our images of different dinner plates look like. In this case, the images are not real and generated using a Windows application called \"Paint\" in PNG form. All the images are of the same size, which is 500 pixels in height and 500 pixels in width. Overall, 140 images were generated, with half having more than one defect and half having not more than one defect. A dinner plate with no defects is shown below. The code uses some standard Python library to show the image."
   ]
  },
  {
   "cell_type": "code",
   "execution_count": 128,
   "metadata": {},
   "outputs": [
    {
     "data": {
      "image/png": "[encoded data removed]",
      "text/plain": [
       "<IPython.core.display.Image object>"
      ]
     },
     "execution_count": 128,
     "metadata": {},
     "output_type": "execute_result"
    }
   ],
   "source": [
    "from IPython.display import Image\n",
    "Image(\"plate_with_no_defects.png\")"
   ]
  },
  {
   "cell_type": "markdown",
   "metadata": {},
   "source": [
    "A dinner plate with a few defects is shown below. Obviously, there are four defects on it."
   ]
  },
  {
   "cell_type": "code",
   "execution_count": 129,
   "metadata": {},
   "outputs": [
    {
     "data": {
      "image/png": "[encoded data removed]",
      "text/plain": [
       "<IPython.core.display.Image object>"
      ]
     },
     "execution_count": 129,
     "metadata": {},
     "output_type": "execute_result"
    }
   ],
   "source": [
    "Image(\"plate_with_defects.png\")"
   ]
  },
  {
   "cell_type": "markdown",
   "metadata": {},
   "source": [
    "Now you have a better idea of the data. Let's get into the hard work of implementing what has been described above using Python. Python is great for implementing machine learning models as there are tons of open-source libraries and frameworks for us to use."
   ]
  },
  {
   "cell_type": "markdown",
   "metadata": {},
   "source": [
    "Before typing any codes of our own, let's import some built-in libraries first so that we can use them later. These libraries can help us to perform various tasks, without which we need to implement by our own. You have seen one that helped up to do the plotting. You don't have to understand all these codes. Just remember that they are the tools that we will use later."
   ]
  },
  {
   "cell_type": "code",
   "execution_count": 130,
   "metadata": {},
   "outputs": [],
   "source": [
    "import numpy as np\n",
    "import matplotlib.pyplot as plt\n",
    "import tensorflow as tf\n",
    "import itertools\n",
    "from tensorflow.keras.models import Sequential\n",
    "from tensorflow.keras.layers import Dense, Flatten, Conv2D, MaxPool2D\n",
    "from tensorflow.keras.optimizers import Adam\n",
    "from tensorflow.keras.preprocessing.image import ImageDataGenerator\n",
    "from sklearn.metrics import confusion_matrix"
   ]
  },
  {
   "cell_type": "markdown",
   "metadata": {},
   "source": [
    "Below are some parameters needed later to build and train our model."
   ]
  },
  {
   "cell_type": "code",
   "execution_count": 131,
   "metadata": {},
   "outputs": [],
   "source": [
    "img_height = 128\n",
    "img_width = 128\n",
    "img_size = (img_height, img_width)\n",
    "batch_size = 10\n",
    "n_epochs = 50"
   ]
  },
  {
   "cell_type": "markdown",
   "metadata": {},
   "source": [
    "The below portion tells the computer where the data is stored. In this case, all the data is stored in a folder named 'img_plates', inside which the data is further organized into three folders, \"train\" for training, \"valid\" for validation and \"test\" for test. In each of these three folders, the images are further organized into two folers, \"Fail\" for those with more than one defect and \"Pass\" for those with not more than one defect."
   ]
  },
  {
   "cell_type": "code",
   "execution_count": 132,
   "metadata": {},
   "outputs": [],
   "source": [
    "train_path = 'img_plates/train'\n",
    "valid_path = 'img_plates/valid'\n",
    "test_path = 'img_plates/test'"
   ]
  },
  {
   "cell_type": "markdown",
   "metadata": {},
   "source": [
    "In the below portion, all the data is preprocessed in the same way defined by preprocessing_function=tf.keras.applications.vgg16.preprocess_input using a function named \"ImageDataGenerator\", and then splitted and stored in three variables, train_batches, valid_batches and test_batches, which can be passed into our model for training, validation and test later. As the name suggests, the variable \"train_batches\" contains our training images, \"valid_batches\" contains our validation images, and \"test_batches\" contans our test images.\n",
    "\n",
    "For \"flow_from_directory\", there are four parameters:\n",
    "* directory: the path of the data\n",
    "* target_size: the image size that all the images will be resized to. This is important as it can help to modify all the images coming in to the same size and reduce the training time.\n",
    "* classes: the name of the categories that all the images will be classified into. In this case, there are two classes, \"Fail\" and \"Pass\".\n",
    "* batch_size: the size of the batches. Data is divided into batches before being passed into our model for faster processing.\n",
    "* shuffle: whether the data should be shuffled, which is disabled for test data."
   ]
  },
  {
   "cell_type": "code",
   "execution_count": 133,
   "metadata": {},
   "outputs": [
    {
     "name": "stdout",
     "output_type": "stream",
     "text": [
      "Found 100 images belonging to 2 classes.\n",
      "Found 20 images belonging to 2 classes.\n",
      "Found 20 images belonging to 2 classes.\n"
     ]
    }
   ],
   "source": [
    "train_batches = ImageDataGenerator(preprocessing_function=tf.keras.applications.vgg16.preprocess_input) \\\n",
    "    .flow_from_directory(directory=train_path, target_size=img_size, classes=['Fail', 'Pass'], batch_size=batch_size)\n",
    "valid_batches = ImageDataGenerator(preprocessing_function=tf.keras.applications.vgg16.preprocess_input) \\\n",
    "    .flow_from_directory(directory=valid_path, target_size=img_size, classes=['Fail', 'Pass'], batch_size=batch_size)\n",
    "test_batches = ImageDataGenerator(preprocessing_function=tf.keras.applications.vgg16.preprocess_input) \\\n",
    "    .flow_from_directory(directory=test_path, target_size=img_size, classes=['Fail', 'Pass'], batch_size=batch_size, shuffle=False)"
   ]
  },
  {
   "cell_type": "markdown",
   "metadata": {},
   "source": [
    "The below portion defines the specific structure of our CNN model. As you can see, there are many different parameters involved. Right now, you don't need to understand all those parameters. Just keep in mind that the model has a lot of parameters that can be tuned to optimize its performance."
   ]
  },
  {
   "cell_type": "code",
   "execution_count": 134,
   "metadata": {},
   "outputs": [],
   "source": [
    "model = Sequential([\n",
    "    Conv2D(filters=256, kernel_size=(3, 3), activation='relu', padding='same', input_shape=(img_height, img_width, 3)),\n",
    "    MaxPool2D(pool_size=(2, 2), strides=2),\n",
    "    Conv2D(filters=256, kernel_size=(3, 3), activation='relu', padding='same'),\n",
    "    MaxPool2D(pool_size=(2, 2), strides=2),\n",
    "    Conv2D(filters=64, kernel_size=(3, 3), activation='relu', padding='same'),\n",
    "    MaxPool2D(pool_size=(2, 2), strides=2),\n",
    "    Conv2D(filters=64, kernel_size=(3, 3), activation='relu', padding='same'),\n",
    "    MaxPool2D(pool_size=(2, 2), strides=2),\n",
    "    Conv2D(filters=256, kernel_size=(3, 3), activation='relu', padding='same'),\n",
    "    MaxPool2D(pool_size=(2, 2), strides=2),\n",
    "    Conv2D(filters=256, kernel_size=(3, 3), activation='relu', padding='same'),\n",
    "    MaxPool2D(pool_size=(2, 2), strides=2),\n",
    "    Flatten(),\n",
    "    Dense(units=2, activation='softmax')\n",
    "])\n",
    "model.compile(optimizer=Adam(learning_rate=0.0001), loss='categorical_crossentropy', metrics=['accuracy'])"
   ]
  },
  {
   "cell_type": "markdown",
   "metadata": {},
   "source": [
    "Now we have both the data and model ready. It's time to use the data to train the model. It is in fact just one line of code with some more parameters. At this step, both the training data and validation data are passed into the model. So the training will be done first, followed by validation. Both training and validation results will be printed out so that we can check how our model performs."
   ]
  },
  {
   "cell_type": "code",
   "execution_count": null,
   "metadata": {},
   "outputs": [
    {
     "name": "stdout",
     "output_type": "stream",
     "text": [
      "Epoch 1/50\n",
      "10/10 - 25s - loss: 3.1224 - accuracy: 0.5500 - val_loss: 0.8316 - val_accuracy: 0.5000\n",
      "Epoch 2/50\n",
      "10/10 - 25s - loss: 1.1079 - accuracy: 0.4600 - val_loss: 0.9184 - val_accuracy: 0.5000\n",
      "Epoch 3/50\n",
      "10/10 - 25s - loss: 1.4754 - accuracy: 0.4600 - val_loss: 0.6603 - val_accuracy: 0.5000\n",
      "Epoch 4/50\n",
      "10/10 - 24s - loss: 0.6849 - accuracy: 0.5000 - val_loss: 0.8498 - val_accuracy: 0.5000\n",
      "Epoch 5/50\n",
      "10/10 - 23s - loss: 0.7267 - accuracy: 0.6200 - val_loss: 0.7177 - val_accuracy: 0.5000\n",
      "Epoch 6/50\n",
      "10/10 - 26s - loss: 0.6146 - accuracy: 0.6300 - val_loss: 0.5048 - val_accuracy: 0.8000\n",
      "Epoch 7/50\n",
      "10/10 - 27s - loss: 0.6778 - accuracy: 0.6600 - val_loss: 0.8004 - val_accuracy: 0.5000\n",
      "Epoch 8/50\n",
      "10/10 - 26s - loss: 0.7935 - accuracy: 0.5400 - val_loss: 0.6375 - val_accuracy: 0.5000\n",
      "Epoch 9/50\n",
      "10/10 - 22s - loss: 0.5838 - accuracy: 0.7300 - val_loss: 0.8740 - val_accuracy: 0.5000\n",
      "Epoch 10/50\n",
      "10/10 - 13s - loss: 0.6196 - accuracy: 0.7100 - val_loss: 0.5050 - val_accuracy: 0.8000\n",
      "Epoch 11/50\n",
      "10/10 - 14s - loss: 0.5323 - accuracy: 0.6400 - val_loss: 0.6362 - val_accuracy: 0.5000\n",
      "Epoch 12/50\n"
     ]
    }
   ],
   "source": [
    "model.fit(x=train_batches,\n",
    "    steps_per_epoch=len(train_batches),\n",
    "    validation_data=valid_batches,\n",
    "    validation_steps=len(valid_batches),\n",
    "    epochs=n_epochs,\n",
    "    verbose=2\n",
    ")"
   ]
  },
  {
   "cell_type": "markdown",
   "metadata": {},
   "source": [
    "As you can see clearly, our model has been trained and the validation results look good. Let's feed the computer with our test images that it hasn't seen yet to check its performance. I am sure your are now both nervous and excited."
   ]
  },
  {
   "cell_type": "code",
   "execution_count": null,
   "metadata": {},
   "outputs": [],
   "source": [
    "predictions = model.predict(x=test_batches, steps=len(test_batches), verbose=0)"
   ]
  },
  {
   "cell_type": "markdown",
   "metadata": {},
   "source": [
    "Hurray! The prediction is done with one line of code. To check its performance, we will be using the confusion matrix, which can show us clearly how accurate our model is. The codes below look complicated. You just need to understand that it is a function helping us to plot the confusion matrix."
   ]
  },
  {
   "cell_type": "code",
   "execution_count": null,
   "metadata": {},
   "outputs": [],
   "source": [
    "def plot_confusion_matrix(cm, classes,\n",
    "                          normalize=False,\n",
    "                          title='Confusion Matrix',\n",
    "                          cmap=plt.cm.Blues):\n",
    "    \"\"\"\n",
    "    This function prints and plots the confusion matrix.\n",
    "    Normalization can be applied by setting `normalize=True`.\n",
    "    \"\"\"\n",
    "    plt.imshow(cm, interpolation='nearest', cmap=cmap)\n",
    "    plt.title(title)\n",
    "    plt.colorbar()\n",
    "    tick_marks = np.arange(len(classes))\n",
    "    plt.xticks(tick_marks, classes, rotation=45)\n",
    "    plt.yticks(tick_marks, classes)\n",
    "\n",
    "    if normalize:\n",
    "        cm = cm.astype('float') / cm.sum(axis=1)[:, np.newaxis]\n",
    "        print(\"Normalized confusion matrix\")\n",
    "    else:\n",
    "        print('Confusion matrix, without normalization')\n",
    "\n",
    "    print(cm)\n",
    "\n",
    "    thresh = cm.max() / 2.\n",
    "    for i, j in itertools.product(range(cm.shape[0]), range(cm.shape[1])):\n",
    "        plt.text(j, i, cm[i, j],\n",
    "            horizontalalignment=\"center\",\n",
    "            color=\"white\" if cm[i, j] > thresh else \"black\")\n",
    "\n",
    "    plt.tight_layout()\n",
    "    plt.ylabel('True label')\n",
    "    plt.xlabel('Predicted label')\n",
    "    plt.show()"
   ]
  },
  {
   "cell_type": "markdown",
   "metadata": {},
   "source": [
    "In the below portion, the confusion matrix of our test results is calculated based on our test results and shown in a simple and beautiful plot."
   ]
  },
  {
   "cell_type": "code",
   "execution_count": null,
   "metadata": {},
   "outputs": [],
   "source": [
    "cm = confusion_matrix(y_true=test_batches.classes, y_pred=np.argmax(predictions, axis=-1))\n",
    "cm_plot_labels = ['Pass', 'Fail']\n",
    "plot_confusion_matrix(cm=cm, classes=cm_plot_labels, title='Confusion Matrix')"
   ]
  },
  {
   "cell_type": "markdown",
   "metadata": {},
   "source": [
    "Finally, we are done! In our confusion matrix, the horizontal axis shows the predicted label (\"Pass\" or \"Fail\") by the computer, and the vertical axis shows tha actual label of the dinner plates (\"Pass\" or \"Fail\"). Those two numbers on the main diagonal are the correct classifications, while the rest are the mistakes. The test result looks not bad. It is definitely not perfect yet. In reality, tuning is always required, which will not be discussed now.\n",
    "\n",
    "Now you have a machine learning-based defect scanner that is ready to do the same task that would have required 20 workers. I think it is the right time to talk about my commissions. Any thoughts?"
   ]
  }
 ],
 "metadata": {
  "kernelspec": {
   "display_name": "Python 3",
   "language": "python",
   "name": "python3"
  },
  "language_info": {
   "codemirror_mode": {
    "name": "ipython",
    "version": 3
   },
   "file_extension": ".py",
   "mimetype": "text/x-python",
   "name": "python",
   "nbconvert_exporter": "python",
   "pygments_lexer": "ipython3",
   "version": "3.7.7"
  }
 },
 "nbformat": 4,
 "nbformat_minor": 4
}
